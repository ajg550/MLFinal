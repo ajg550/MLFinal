{
 "cells": [
  {
   "cell_type": "markdown",
   "metadata": {},
   "source": [
    "# Machine Learning Final\n",
    "# Angie Gonzalez & Eric Kwok"
   ]
  },
  {
   "cell_type": "code",
   "execution_count": 25,
   "metadata": {},
   "outputs": [
    {
     "name": "stderr",
     "output_type": "stream",
     "text": [
      "ERROR:root:Internal Python error in the inspect module.\n",
      "Below is the traceback from this internal error.\n",
      "\n"
     ]
    },
    {
     "name": "stdout",
     "output_type": "stream",
     "text": [
      "Traceback (most recent call last):\n",
      "  File \"/anaconda/lib/python3.6/site-packages/IPython/core/interactiveshell.py\", line 2881, in run_code\n",
      "    exec(code_obj, self.user_global_ns, self.user_ns)\n",
      "  File \"<ipython-input-25-4815384defa7>\", line 19, in <module>\n",
      "    imgs = loadImages(path)\n",
      "  File \"<ipython-input-25-4815384defa7>\", line 7, in loadImages\n",
      "    imagesList = listdir(path)\n",
      "OSError: [Errno 24] Too many open files: '/black'\n",
      "\n",
      "During handling of the above exception, another exception occurred:\n",
      "\n",
      "Traceback (most recent call last):\n",
      "  File \"/anaconda/lib/python3.6/site-packages/IPython/core/interactiveshell.py\", line 1821, in showtraceback\n",
      "    stb = value._render_traceback_()\n",
      "AttributeError: 'OSError' object has no attribute '_render_traceback_'\n",
      "\n",
      "During handling of the above exception, another exception occurred:\n",
      "\n",
      "Traceback (most recent call last):\n",
      "  File \"/anaconda/lib/python3.6/site-packages/IPython/core/ultratb.py\", line 1132, in get_records\n",
      "  File \"/anaconda/lib/python3.6/site-packages/IPython/core/ultratb.py\", line 313, in wrapped\n",
      "  File \"/anaconda/lib/python3.6/site-packages/IPython/core/ultratb.py\", line 358, in _fixed_getinnerframes\n",
      "  File \"/anaconda/lib/python3.6/inspect.py\", line 1453, in getinnerframes\n",
      "  File \"/anaconda/lib/python3.6/inspect.py\", line 1411, in getframeinfo\n",
      "  File \"/anaconda/lib/python3.6/inspect.py\", line 666, in getsourcefile\n",
      "  File \"/anaconda/lib/python3.6/inspect.py\", line 695, in getmodule\n",
      "  File \"/anaconda/lib/python3.6/inspect.py\", line 679, in getabsfile\n",
      "  File \"/anaconda/lib/python3.6/posixpath.py\", line 374, in abspath\n",
      "OSError: [Errno 24] Too many open files\n"
     ]
    },
    {
     "ename": "OSError",
     "evalue": "[Errno 24] Too many open files: '/black'",
     "output_type": "error",
     "traceback": [
      "\u001b[0;31m---------------------------------------------------------------------------\u001b[0m"
     ]
    }
   ],
   "source": [
    "from os import listdir\n",
    "from PIL import Image as PImage\n",
    "\n",
    "def loadImages(path):\n",
    "    # return array of images\n",
    "\n",
    "    imagesList = listdir(path)\n",
    "    loadedImages = []\n",
    "    for image in imagesList:\n",
    "        img = PImage.open(path + image)\n",
    "        loadedImages.append(img)\n",
    "\n",
    "    return loadedImages\n",
    "\n",
    "path = \"/black\"\n",
    "\n",
    "\n",
    "\n",
    "imgs = loadImages(path)\n",
    "\n",
    "for img in imgs:\n",
    "    # you can show every image\n",
    "    img.show()"
   ]
  },
  {
   "cell_type": "code",
   "execution_count": 18,
   "metadata": {},
   "outputs": [],
   "source": [
    "#Data imported http://localhost:8888/notebooks/Documents/Fall%202017/Machine%20Learning/MLFinal/ML%20Final.ipynb#from: http://wiki.cnbc.cmu.edu/Face_Place choose African American\n",
    "\n",
    "from keras.engine import  Model\n",
    "from keras.layers import Input\n",
    "from keras_vggface.vggface import VGGFace\n",
    "\n",
    "# Convolution Features\n",
    "vgg_model_conv = VGGFace(include_top=False, input_shape=(224, 224, 3), pooling='avg') # pooling: None, avg or max\n",
    "\n",
    "# FC7 Features\n",
    "vgg_model = VGGFace() # pooling: None, avg or max\n",
    "out = vgg_model.get_layer('fc7').output\n",
    "vgg_model_fc7 = Model(vgg_model.input, out)"
   ]
  },
  {
   "cell_type": "code",
   "execution_count": null,
   "metadata": {
    "collapsed": true
   },
   "outputs": [],
   "source": []
  },
  {
   "cell_type": "code",
   "execution_count": null,
   "metadata": {
    "collapsed": true
   },
   "outputs": [],
   "source": []
  }
 ],
 "metadata": {
  "kernelspec": {
   "display_name": "Python 3",
   "language": "python",
   "name": "python3"
  },
  "language_info": {
   "codemirror_mode": {
    "name": "ipython",
    "version": 3
   },
   "file_extension": ".py",
   "mimetype": "text/x-python",
   "name": "python",
   "nbconvert_exporter": "python",
   "pygments_lexer": "ipython3",
   "version": "3.6.1"
  }
 },
 "nbformat": 4,
 "nbformat_minor": 2
}
